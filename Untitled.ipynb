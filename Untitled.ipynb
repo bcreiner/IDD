{
 "cells": [
  {
   "cell_type": "code",
   "execution_count": 1,
   "id": "0e0769fe",
   "metadata": {},
   "outputs": [],
   "source": [
    "from IPython.display import Latex\n",
    "from IPython.display import Markdown as md"
   ]
  },
  {
   "cell_type": "code",
   "execution_count": 6,
   "id": "d1b71304",
   "metadata": {},
   "outputs": [
    {
     "data": {
      "text/latex": [
       "\n",
       "Some words\n",
       "\\begin{align}\\label{eq:1}\n",
       "x & = y\\\\\n",
       "z & = \\beta\n",
       "\\end{align}\n",
       "\n",
       "Some more words\n",
       "\n",
       "$$\\frac{1}{2}$$\n"
      ],
      "text/plain": [
       "<IPython.core.display.Latex object>"
      ]
     },
     "metadata": {},
     "output_type": "display_data"
    }
   ],
   "source": [
    "%%latex\n",
    "\n",
    "Some words\n",
    "\\begin{align}\\label{eq:1}\n",
    "x & = y\\\\\n",
    "z & = \\beta\n",
    "\\end{align}\n",
    "\n",
    "Some more words\n",
    "\n",
    "$$\\frac{1}{2}$$"
   ]
  },
  {
   "cell_type": "code",
   "execution_count": null,
   "id": "02954cc8",
   "metadata": {},
   "outputs": [],
   "source": []
  }
 ],
 "metadata": {
  "kernelspec": {
   "display_name": "Python 3 (ipykernel)",
   "language": "python",
   "name": "python3"
  },
  "language_info": {
   "codemirror_mode": {
    "name": "ipython",
    "version": 3
   },
   "file_extension": ".py",
   "mimetype": "text/x-python",
   "name": "python",
   "nbconvert_exporter": "python",
   "pygments_lexer": "ipython3",
   "version": "3.9.7"
  }
 },
 "nbformat": 4,
 "nbformat_minor": 5
}
