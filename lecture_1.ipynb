{
 "cells": [
  {
   "cell_type": "code",
   "execution_count": 1,
   "id": "40c9a9b9",
   "metadata": {
    "hideCode": false,
    "hidePrompt": false,
    "slideshow": {
     "slide_type": "skip"
    }
   },
   "outputs": [
    {
     "data": {
      "text/html": [
       "\n",
       "<style>\n",
       ".code_cell .run_this_cell {\n",
       "    display: none;\n",
       "}\n",
       "</style>\n"
      ],
      "text/plain": [
       "<IPython.core.display.HTML object>"
      ]
     },
     "execution_count": 1,
     "metadata": {},
     "output_type": "execute_result"
    }
   ],
   "source": [
    "import ipywidgets as widgets\n",
    "from ipywidgets import interact, interactive, interact_manual\n",
    "from ipywidgets import HBox, VBox\n",
    "import numpy as np\n",
    "from scipy.integrate import odeint\n",
    "import matplotlib.pyplot as plt\n",
    "from IPython.display import display\n",
    "%matplotlib inline\n",
    "import pandas as pd\n",
    "\n",
    "from IPython.core.display import HTML\n",
    "HTML(\"\"\"\n",
    "<style>\n",
    ".code_cell .run_this_cell {\n",
    "    display: none;\n",
    "}\n",
    "</style>\n",
    "\"\"\")"
   ]
  },
  {
   "cell_type": "code",
   "execution_count": 2,
   "id": "68dba831",
   "metadata": {
    "slideshow": {
     "slide_type": "skip"
    }
   },
   "outputs": [
    {
     "data": {
      "text/html": [
       "<script>\n",
       "    // AUTORUN ALL CELLS ON NOTEBOOK-LOAD!\n",
       "    require(\n",
       "        ['base/js/namespace', 'jquery'], \n",
       "        function(jupyter, $) {\n",
       "            $(jupyter.events).on(\"kernel_ready.Kernel\", function () {\n",
       "                console.log(\"Auto-running all cells-below...\");\n",
       "                jupyter.actions.call('jupyter-notebook:run-all-cells-below');\n",
       "                jupyter.actions.call('jupyter-notebook:save-notebook');\n",
       "            });\n",
       "        }\n",
       "    );\n",
       "</script>\n"
      ],
      "text/plain": [
       "<IPython.core.display.HTML object>"
      ]
     },
     "metadata": {},
     "output_type": "display_data"
    }
   ],
   "source": [
    "%%html\n",
    "<script>\n",
    "    // AUTORUN ALL CELLS ON NOTEBOOK-LOAD!\n",
    "    require(\n",
    "        ['base/js/namespace', 'jquery'], \n",
    "        function(jupyter, $) {\n",
    "            $(jupyter.events).on(\"kernel_ready.Kernel\", function () {\n",
    "                console.log(\"Auto-running all cells-below...\");\n",
    "                jupyter.actions.call('jupyter-notebook:run-all-cells-below');\n",
    "                jupyter.actions.call('jupyter-notebook:save-notebook');\n",
    "            });\n",
    "        }\n",
    "    );\n",
    "</script>"
   ]
  },
  {
   "cell_type": "markdown",
   "id": "e2d2f859",
   "metadata": {
    "hideCode": false,
    "hidePrompt": false,
    "slideshow": {
     "slide_type": "slide"
    }
   },
   "source": [
    "# The Talk\n",
    "## This is practice\n",
    "\n",
    "### By: Me"
   ]
  },
  {
   "cell_type": "markdown",
   "id": "1cdad73a",
   "metadata": {
    "hideCode": false,
    "hidePrompt": false,
    "slideshow": {
     "slide_type": "subslide"
    }
   },
   "source": [
    "## This will be the outline\n",
    "\n",
    " - A\n",
    " - B\n",
    "   - C\n",
    "   - D\n",
    "\n",
    "$\\frac{1}{2} = \\int_0^\\infty f(x)dx$"
   ]
  },
  {
   "cell_type": "code",
   "execution_count": 3,
   "id": "7265b8ef",
   "metadata": {
    "hideCode": true,
    "hidePrompt": true,
    "scrolled": true,
    "slideshow": {
     "slide_type": "subslide"
    },
    "tags": [
     "hide-input"
    ]
   },
   "outputs": [
    {
     "data": {
      "application/vnd.jupyter.widget-view+json": {
       "model_id": "7a087b2a308142db8e5d2741db8363b2",
       "version_major": 2,
       "version_minor": 0
      },
      "text/plain": [
       "interactive(children=(IntSlider(value=20, description='x', max=60, min=-20), Output()), _dom_classes=('widget-…"
      ]
     },
     "metadata": {},
     "output_type": "display_data"
    },
    {
     "data": {
      "text/plain": [
       "<function __main__.my_function(x)>"
      ]
     },
     "execution_count": 3,
     "metadata": {},
     "output_type": "execute_result"
    }
   ],
   "source": [
    "def my_function(x):\n",
    "    return x\n",
    "# create a slider\n",
    "interact(my_function, x=20)"
   ]
  },
  {
   "cell_type": "code",
   "execution_count": 4,
   "id": "3d7ceef0",
   "metadata": {
    "hideCode": true,
    "hidePrompt": true,
    "hide_input": true,
    "slideshow": {
     "slide_type": "subslide"
    },
    "tags": [
     "hide-input"
    ]
   },
   "outputs": [
    {
     "data": {
      "application/vnd.jupyter.widget-view+json": {
       "model_id": "11f1a66f0f5448868c193730cbac2285",
       "version_major": 2,
       "version_minor": 0
      },
      "text/plain": [
       "interactive(children=(FloatSlider(value=1.0, description='freq', max=3.0, min=-1.0), Dropdown(description='col…"
      ]
     },
     "metadata": {},
     "output_type": "display_data"
    }
   ],
   "source": [
    "@widgets.interact_manual(\n",
    "    color=['blue', 'red', 'green'], lw=(1., 100.))\n",
    "def plot(freq=1., color='blue', lw=2, grid=True):\n",
    "    t = np.linspace(-1., +1., 1000)\n",
    "    fig, ax = plt.subplots(1, 1, figsize=(8, 6))\n",
    "    ax.plot(t, np.sin(2 * np.pi * freq * t),\n",
    "            lw=lw, color=color)\n",
    "    ax.grid(grid)\n"
   ]
  },
  {
   "cell_type": "code",
   "execution_count": 5,
   "id": "cecf4997",
   "metadata": {
    "hideCode": false,
    "hidePrompt": false,
    "slideshow": {
     "slide_type": "skip"
    },
    "tags": [
     "hide-input"
    ]
   },
   "outputs": [],
   "source": [
    "# Total population, N.\n",
    "N = 1000\n",
    "\n",
    "\n",
    "# The SIR model differential equations.\n",
    "def deriv(y, t, N, beta, gamma):\n",
    "    S, I, R = y\n",
    "    dSdt = -beta * S * I / N\n",
    "    dIdt = beta * S * I / N - gamma * I\n",
    "    dRdt = gamma * I\n",
    "    return dSdt, dIdt, dRdt\n",
    "\n",
    "\n",
    "\n",
    "def SIR(I0_frac, beta, gamma, days):\n",
    "    # Initial number of infected and recovered individuals, I0 and R0.\n",
    "    I0, R0 = N * I0_frac, 0\n",
    "    # Everyone else, S0, is susceptible to infection initially.\n",
    "    S0 = N - I0 - R0\n",
    "    # Initial conditions vector\n",
    "    y0 = S0, I0, R0\n",
    "    # A grid of time points (in days)\n",
    "    t = np.linspace(0, days, days*100)\n",
    "    # Integrate the SIR equations over the time grid, t.\n",
    "    ret = odeint(deriv, y0, t, args=(N, beta, gamma))\n",
    "    S, I, R = ret.T\n",
    "\n",
    "    # Plot the data on three separate curves for S(t), I(t) and R(t)\n",
    "    fig = plt.figure(figsize=(12,8), facecolor='w')\n",
    "    ax = fig.add_subplot(111, facecolor='#dddddd', axisbelow=True)\n",
    "    ax.plot(t, S/1000, 'b', alpha=0.5, lw=2, label='Susceptible')\n",
    "    ax.plot(t, I/1000, 'r', alpha=0.5, lw=2, label='Infected')\n",
    "    ax.plot(t, R/1000, 'g', alpha=0.5, lw=2, label='Recovered with immunity')\n",
    "    ax.set_xlabel('Time /days', fontsize=18)\n",
    "    ax.set_ylabel('Number (1000s)', fontsize=18)\n",
    "    ax.set_ylim(0,1.2)\n",
    "    ax.yaxis.set_tick_params(length=0)\n",
    "    ax.xaxis.set_tick_params(length=0)\n",
    "    ax.grid(which='major', c='w', lw=2, ls='-')\n",
    "    legend = ax.legend(prop={\"size\":20})\n",
    "    legend.get_frame().set_alpha(0.5)\n",
    "    for spine in ('top', 'right', 'bottom', 'left'):\n",
    "        ax.spines[spine].set_visible(False)\n",
    "    return fig, ax\n",
    "    "
   ]
  },
  {
   "cell_type": "code",
   "execution_count": 6,
   "id": "3710a0c5",
   "metadata": {
    "hideCode": true,
    "hidePrompt": true,
    "slideshow": {
     "slide_type": "slide"
    }
   },
   "outputs": [
    {
     "data": {
      "application/vnd.jupyter.widget-view+json": {
       "model_id": "2d1317757c72439e901c75fe21b590a5",
       "version_major": 2,
       "version_minor": 0
      },
      "text/plain": [
       "Output()"
      ]
     },
     "metadata": {},
     "output_type": "display_data"
    },
    {
     "data": {
      "application/vnd.jupyter.widget-view+json": {
       "model_id": "14fb0c6ad479493b8a0130d86c2c59fc",
       "version_major": 2,
       "version_minor": 0
      },
      "text/plain": [
       "VBox(children=(HBox(children=(FloatSlider(value=0.005, description='\\\\(I_0\\\\)', max=0.01, step=0.001), FloatSl…"
      ]
     },
     "metadata": {},
     "output_type": "display_data"
    }
   ],
   "source": [
    "I0_frac = widgets.FloatSlider(min=0.000,max=0.010,step=0.001, description=r'\\(I_0\\)', value = 0.005)\n",
    "beta = widgets.FloatSlider(min=0.1,max=5.0,step=0.1, description=r'\\(\\beta\\) ', value = 2.0)\n",
    "gamma = widgets.FloatSlider(min=0.1,max=5.0,step=0.1, description=r'\\(\\gamma\\)', value = 0.5)\n",
    "days = widgets.IntSlider(min=10,max=85,step=15, description=\"Days\", value = 20)\n",
    "\n",
    "# An HBox lays out its children horizontally\n",
    "ui = widgets.VBox([HBox([I0_frac, beta]),\n",
    "                   HBox([gamma, days])])\n",
    "\n",
    "def plot(I0_frac=0.01, beta=2, gamma = 1/2, days = 40):\n",
    "    fig, ax = SIR(I0_frac, beta, gamma, days)\n",
    "    plt.show()\n",
    "\n",
    "out = widgets.interactive_output(plot, {'I0_frac': I0_frac, \n",
    "                                        'beta': beta, \n",
    "                                        'gamma': gamma, \n",
    "                                        'days': days})\n",
    "\n",
    "display(out, ui)"
   ]
  }
 ],
 "metadata": {
  "celltoolbar": "Slideshow",
  "hide_code_all_hidden": false,
  "kernelspec": {
   "display_name": "Python 3 (ipykernel)",
   "language": "python",
   "name": "python3"
  },
  "language_info": {
   "codemirror_mode": {
    "name": "ipython",
    "version": 3
   },
   "file_extension": ".py",
   "mimetype": "text/x-python",
   "name": "python",
   "nbconvert_exporter": "python",
   "pygments_lexer": "ipython3",
   "version": "3.9.7"
  },
  "livereveal": {
   "autolaunch": true,
   "scroll": true
  },
  "rise": {
   "enable_chalkboard": true,
   "start_slideshow_at": "beginning"
  }
 },
 "nbformat": 4,
 "nbformat_minor": 5
}
